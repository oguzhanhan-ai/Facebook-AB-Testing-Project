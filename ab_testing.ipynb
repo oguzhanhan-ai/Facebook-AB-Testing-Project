{
 "cells": [
  {
   "cell_type": "markdown",
   "id": "a64126b0",
   "metadata": {},
   "source": [
    "### AB Testi Bidding Yöntemlerinin Dönüşümünün Karşılaştırılması\n",
    "\n",
    "**İş Problemi**\n",
    "\n",
    "Facebook kısa süre önce mevcut **\"maximumbidding\"** adı verilen teklif verme türüne alternatif olarak yeni bir teklif türü olan **\"average bidding\"**’i tanıttı. Müşterilerimizden biri olan bombabomba.com, bu yeni özelliği test etmeye karar verdi ve averagebidding'in maximumbidding'den daha fazla dönüşüm\n",
    "getirip getirmediğini anlamak için bir A/B testiyapmak istiyor. A/B testi 1 aydır devam ediyor ve bombabomba.com şimdi sizden bu A/B testinin sonuçlarını analiz etmenizi bekliyor. Bombabomba.com için nihai başarı ölçütü **Purchase**'dır. Bu nedenle, istatistiksel testler için **Purchase** metriğine odaklanılmalıdır.\n",
    "\n",
    "**Veri Seti Hikayesi**\n",
    "\n",
    "Bir firmanın web site bilgilerini içeren bu veri setinde kullanıcıların gördükleri ve tıkladıkları reklam sayıları gibi bilgilerin yanı sıra buradan gelen kazanç bilgileri yer almaktadır. Kontrol ve Test grubu olmak üzere iki ayrı veri seti vardır. Bu veri setleri **ab_testing.xlsx** excel’inin ayrı sayfalarında yer almaktadır. Kontrol grubuna **Maximum Bidding**, test grubuna **AverageBidding** uygulanmıştır.\n",
    "\n",
    "**Değişkenler**\n",
    "\n",
    "**impression:** Reklam görüntüleme sayısı\n",
    "\n",
    "**Click:** Görüntülenen reklama tıklama sayısı\n",
    "\n",
    "**Purchase:** Tıklanan reklamlar sonrası satın alınan ürün sayısı\n",
    "\n",
    "**Earning:** Satın alınan ürünler sonrası elde edilen kazanç"
   ]
  },
  {
   "cell_type": "markdown",
   "id": "3e5d43d6",
   "metadata": {},
   "source": [
    "#### Görev 1:  Veriyi Hazırlama ve Analiz Etme ###"
   ]
  },
  {
   "cell_type": "markdown",
   "id": "b0ea564d",
   "metadata": {},
   "source": [
    "**Adım 1:**  ab_testing_data.xlsx adlı kontrol ve test grubu verilerinden oluşan veri setini okutunuz. Kontrol ve test grubu verilerini ayrı değişkenlere atayınız.\n"
   ]
  },
  {
   "cell_type": "code",
   "execution_count": 1,
   "id": "cedcf834",
   "metadata": {},
   "outputs": [],
   "source": [
    "# Gerekli kütüphane ve fonksiyonların yüklenmesi\n",
    "\n",
    "import numpy as np\n",
    "import pandas as pd\n",
    "import matplotlib.pyplot as plt\n",
    "import seaborn as sns\n",
    "\n",
    "from scipy.stats import shapiro, levene, ttest_ind\n",
    "\n",
    "pd.set_option('display.float_format', lambda x: '%.5f' % x)\n",
    "\n",
    "dataframe_control = pd.read_excel(\"datasets/ab_testing.xlsx\" , sheet_name = \"Control Group\")\n",
    "dataframe_test = pd.read_excel(\"datasets/ab_testing.xlsx\" , sheet_name = \"Test Group\")\n",
    "\n",
    "df_control = dataframe_control.copy()\n",
    "\n",
    "df_test = dataframe_test.copy()"
   ]
  },
  {
   "cell_type": "markdown",
   "id": "73b96e73",
   "metadata": {},
   "source": [
    "**Adım 2:** Kontrol ve test grubu verilerini analiz ediniz."
   ]
  },
  {
   "cell_type": "code",
   "execution_count": 2,
   "id": "73987f8f",
   "metadata": {},
   "outputs": [],
   "source": [
    "def check_df(dataframe, head = 5):\n",
    "    print(\"##################### Shape #####################\")\n",
    "    print(dataframe.shape)\n",
    "    print(\"##################### Types #####################\")\n",
    "    print(dataframe.dtypes)\n",
    "    print(\"##################### Head #####################\")\n",
    "    print(dataframe.head())\n",
    "    print(\"##################### Tail #####################\")\n",
    "    print(dataframe.tail())\n",
    "    print(\"##################### NA #####################\")\n",
    "    print(dataframe.isnull().sum())\n",
    "    print(\"##################### Quantiles #####################\")\n",
    "    print(dataframe.quantile([0, 0.05, 0.50, 0.95, 0.99, 1]).T)"
   ]
  },
  {
   "cell_type": "code",
   "execution_count": 3,
   "id": "b4bb5c68",
   "metadata": {},
   "outputs": [
    {
     "name": "stdout",
     "output_type": "stream",
     "text": [
      "##################### Shape #####################\n",
      "(40, 4)\n",
      "##################### Types #####################\n",
      "Impression    float64\n",
      "Click         float64\n",
      "Purchase      float64\n",
      "Earning       float64\n",
      "dtype: object\n",
      "##################### Head #####################\n",
      "    Impression      Click  Purchase    Earning\n",
      "0  82529.45927 6090.07732 665.21125 2311.27714\n",
      "1  98050.45193 3382.86179 315.08489 1742.80686\n",
      "2  82696.02355 4167.96575 458.08374 1797.82745\n",
      "3 109914.40040 4910.88224 487.09077 1696.22918\n",
      "4 108457.76263 5987.65581 441.03405 1543.72018\n",
      "##################### Tail #####################\n",
      "     Impression      Click  Purchase    Earning\n",
      "35 132064.21900 3747.15754 551.07241 2256.97559\n",
      "36  86409.94180 4608.25621 345.04603 1781.35769\n",
      "37 123678.93423 3649.07379 476.16813 2187.72122\n",
      "38 101997.49410 4736.35337 474.61354 2254.56383\n",
      "39 121085.88122 4285.17861 590.40602 1289.30895\n",
      "##################### NA #####################\n",
      "Impression    0\n",
      "Click         0\n",
      "Purchase      0\n",
      "Earning       0\n",
      "dtype: int64\n",
      "##################### Quantiles #####################\n",
      "               0.00000     0.05000     0.50000      0.95000      0.99000  \\\n",
      "Impression 45475.94296 79412.01792 99790.70108 132950.53245 143105.79110   \n",
      "Click       2189.75316  3367.48426  5001.22060   7374.36120   7761.79511   \n",
      "Purchase     267.02894   328.66242   531.20631    748.27076    790.18779   \n",
      "Earning     1253.98952  1329.57708  1975.16052   2318.52850   2481.30874   \n",
      "\n",
      "                1.00000  \n",
      "Impression 147539.33633  \n",
      "Click        7959.12507  \n",
      "Purchase      801.79502  \n",
      "Earning      2497.29522  \n"
     ]
    }
   ],
   "source": [
    "check_df(df_control)"
   ]
  },
  {
   "cell_type": "code",
   "execution_count": 4,
   "id": "271b9964",
   "metadata": {},
   "outputs": [
    {
     "name": "stdout",
     "output_type": "stream",
     "text": [
      "##################### Shape #####################\n",
      "(40, 4)\n",
      "##################### Types #####################\n",
      "Impression    float64\n",
      "Click         float64\n",
      "Purchase      float64\n",
      "Earning       float64\n",
      "dtype: object\n",
      "##################### Head #####################\n",
      "    Impression      Click  Purchase    Earning\n",
      "0 120103.50380 3216.54796 702.16035 1939.61124\n",
      "1 134775.94336 3635.08242 834.05429 2929.40582\n",
      "2 107806.62079 3057.14356 422.93426 2526.24488\n",
      "3 116445.27553 4650.47391 429.03353 2281.42857\n",
      "4 145082.51684 5201.38772 749.86044 2781.69752\n",
      "##################### Tail #####################\n",
      "     Impression      Click  Purchase    Earning\n",
      "35  79234.91193 6002.21358 382.04712 2277.86398\n",
      "36 130702.23941 3626.32007 449.82459 2530.84133\n",
      "37 116481.87337 4702.78247 472.45373 2597.91763\n",
      "38  79033.83492 4495.42818 425.35910 2595.85788\n",
      "39 102257.45409 4800.06832 521.31073 2967.51839\n",
      "##################### NA #####################\n",
      "Impression    0\n",
      "Click         0\n",
      "Purchase      0\n",
      "Earning       0\n",
      "dtype: int64\n",
      "##################### Quantiles #####################\n",
      "               0.00000     0.05000      0.50000      0.95000      0.99000  \\\n",
      "Impression 79033.83492 83150.50378 119291.30077 153178.69106 158245.26380   \n",
      "Click       1836.62986  2600.36102   3931.35980   5271.18691   6012.87730   \n",
      "Purchase     311.62952   356.69540    551.35573    854.20895    876.57610   \n",
      "Earning     1939.61124  2080.97621   2544.66611   2931.31145   3091.94089   \n",
      "\n",
      "                1.00000  \n",
      "Impression 158605.92048  \n",
      "Click        6019.69508  \n",
      "Purchase      889.91046  \n",
      "Earning      3171.48971  \n"
     ]
    }
   ],
   "source": [
    "check_df(df_test)"
   ]
  },
  {
   "cell_type": "markdown",
   "id": "6dac311c",
   "metadata": {},
   "source": [
    "**Adım 3:** Analiz işleminden sonra concat metodunu kullanarak kontrol ve test grubu verilerini birleştiriniz."
   ]
  },
  {
   "cell_type": "code",
   "execution_count": 5,
   "id": "fa141e03",
   "metadata": {},
   "outputs": [],
   "source": [
    "df_control[\"group\"] = \"control\"\n",
    "df_test[\"group\"] = \"test\""
   ]
  },
  {
   "cell_type": "code",
   "execution_count": 6,
   "id": "231585b0",
   "metadata": {},
   "outputs": [
    {
     "data": {
      "text/html": [
       "<div>\n",
       "<style scoped>\n",
       "    .dataframe tbody tr th:only-of-type {\n",
       "        vertical-align: middle;\n",
       "    }\n",
       "\n",
       "    .dataframe tbody tr th {\n",
       "        vertical-align: top;\n",
       "    }\n",
       "\n",
       "    .dataframe thead th {\n",
       "        text-align: right;\n",
       "    }\n",
       "</style>\n",
       "<table border=\"1\" class=\"dataframe\">\n",
       "  <thead>\n",
       "    <tr style=\"text-align: right;\">\n",
       "      <th></th>\n",
       "      <th>Impression</th>\n",
       "      <th>Click</th>\n",
       "      <th>Purchase</th>\n",
       "      <th>Earning</th>\n",
       "      <th>group</th>\n",
       "    </tr>\n",
       "  </thead>\n",
       "  <tbody>\n",
       "    <tr>\n",
       "      <th>0</th>\n",
       "      <td>82529.45927</td>\n",
       "      <td>6090.07732</td>\n",
       "      <td>665.21125</td>\n",
       "      <td>2311.27714</td>\n",
       "      <td>control</td>\n",
       "    </tr>\n",
       "    <tr>\n",
       "      <th>1</th>\n",
       "      <td>98050.45193</td>\n",
       "      <td>3382.86179</td>\n",
       "      <td>315.08489</td>\n",
       "      <td>1742.80686</td>\n",
       "      <td>control</td>\n",
       "    </tr>\n",
       "    <tr>\n",
       "      <th>2</th>\n",
       "      <td>82696.02355</td>\n",
       "      <td>4167.96575</td>\n",
       "      <td>458.08374</td>\n",
       "      <td>1797.82745</td>\n",
       "      <td>control</td>\n",
       "    </tr>\n",
       "    <tr>\n",
       "      <th>3</th>\n",
       "      <td>109914.40040</td>\n",
       "      <td>4910.88224</td>\n",
       "      <td>487.09077</td>\n",
       "      <td>1696.22918</td>\n",
       "      <td>control</td>\n",
       "    </tr>\n",
       "    <tr>\n",
       "      <th>4</th>\n",
       "      <td>108457.76263</td>\n",
       "      <td>5987.65581</td>\n",
       "      <td>441.03405</td>\n",
       "      <td>1543.72018</td>\n",
       "      <td>control</td>\n",
       "    </tr>\n",
       "  </tbody>\n",
       "</table>\n",
       "</div>"
      ],
      "text/plain": [
       "    Impression      Click  Purchase    Earning    group\n",
       "0  82529.45927 6090.07732 665.21125 2311.27714  control\n",
       "1  98050.45193 3382.86179 315.08489 1742.80686  control\n",
       "2  82696.02355 4167.96575 458.08374 1797.82745  control\n",
       "3 109914.40040 4910.88224 487.09077 1696.22918  control\n",
       "4 108457.76263 5987.65581 441.03405 1543.72018  control"
      ]
     },
     "execution_count": 6,
     "metadata": {},
     "output_type": "execute_result"
    }
   ],
   "source": [
    "df = pd.concat([df_control, df_test], axis = 0, ignore_index = True)\n",
    "\n",
    "df.head()"
   ]
  },
  {
   "cell_type": "code",
   "execution_count": 7,
   "id": "2e4bb3b6",
   "metadata": {},
   "outputs": [
    {
     "data": {
      "text/html": [
       "<div>\n",
       "<style scoped>\n",
       "    .dataframe tbody tr th:only-of-type {\n",
       "        vertical-align: middle;\n",
       "    }\n",
       "\n",
       "    .dataframe tbody tr th {\n",
       "        vertical-align: top;\n",
       "    }\n",
       "\n",
       "    .dataframe thead th {\n",
       "        text-align: right;\n",
       "    }\n",
       "</style>\n",
       "<table border=\"1\" class=\"dataframe\">\n",
       "  <thead>\n",
       "    <tr style=\"text-align: right;\">\n",
       "      <th></th>\n",
       "      <th>Impression</th>\n",
       "      <th>Click</th>\n",
       "      <th>Purchase</th>\n",
       "      <th>Earning</th>\n",
       "      <th>group</th>\n",
       "    </tr>\n",
       "  </thead>\n",
       "  <tbody>\n",
       "    <tr>\n",
       "      <th>75</th>\n",
       "      <td>79234.91193</td>\n",
       "      <td>6002.21358</td>\n",
       "      <td>382.04712</td>\n",
       "      <td>2277.86398</td>\n",
       "      <td>test</td>\n",
       "    </tr>\n",
       "    <tr>\n",
       "      <th>76</th>\n",
       "      <td>130702.23941</td>\n",
       "      <td>3626.32007</td>\n",
       "      <td>449.82459</td>\n",
       "      <td>2530.84133</td>\n",
       "      <td>test</td>\n",
       "    </tr>\n",
       "    <tr>\n",
       "      <th>77</th>\n",
       "      <td>116481.87337</td>\n",
       "      <td>4702.78247</td>\n",
       "      <td>472.45373</td>\n",
       "      <td>2597.91763</td>\n",
       "      <td>test</td>\n",
       "    </tr>\n",
       "    <tr>\n",
       "      <th>78</th>\n",
       "      <td>79033.83492</td>\n",
       "      <td>4495.42818</td>\n",
       "      <td>425.35910</td>\n",
       "      <td>2595.85788</td>\n",
       "      <td>test</td>\n",
       "    </tr>\n",
       "    <tr>\n",
       "      <th>79</th>\n",
       "      <td>102257.45409</td>\n",
       "      <td>4800.06832</td>\n",
       "      <td>521.31073</td>\n",
       "      <td>2967.51839</td>\n",
       "      <td>test</td>\n",
       "    </tr>\n",
       "  </tbody>\n",
       "</table>\n",
       "</div>"
      ],
      "text/plain": [
       "     Impression      Click  Purchase    Earning group\n",
       "75  79234.91193 6002.21358 382.04712 2277.86398  test\n",
       "76 130702.23941 3626.32007 449.82459 2530.84133  test\n",
       "77 116481.87337 4702.78247 472.45373 2597.91763  test\n",
       "78  79033.83492 4495.42818 425.35910 2595.85788  test\n",
       "79 102257.45409 4800.06832 521.31073 2967.51839  test"
      ]
     },
     "execution_count": 7,
     "metadata": {},
     "output_type": "execute_result"
    }
   ],
   "source": [
    "df.tail()"
   ]
  },
  {
   "cell_type": "markdown",
   "id": "3f954786",
   "metadata": {},
   "source": [
    "#### Görev 2:  A/B Testinin Hipotezinin Tanımlanması"
   ]
  },
  {
   "cell_type": "markdown",
   "id": "5a9a841b",
   "metadata": {},
   "source": [
    "**Adım 1:** Hipotezi tanımlayınız."
   ]
  },
  {
   "cell_type": "code",
   "execution_count": 8,
   "id": "6f9bab4d",
   "metadata": {},
   "outputs": [],
   "source": [
    "# H0 : M1 = M2 (Kontrol grubu ve test grubu satın alma ortalamaları arasında fark yoktur).\n",
    "# H1 : M1!= M2 (Kontrol grubu ve test grubu satın alma ortalamaları arasında fark vardır)."
   ]
  },
  {
   "cell_type": "markdown",
   "id": "f01b5a4c",
   "metadata": {},
   "source": [
    "**Adım 2:** Kontrol ve test grubu için purchase (kazanç) ortalamalarını analiz ediniz."
   ]
  },
  {
   "cell_type": "code",
   "execution_count": 9,
   "id": "79cb43fe",
   "metadata": {},
   "outputs": [
    {
     "data": {
      "text/html": [
       "<div>\n",
       "<style scoped>\n",
       "    .dataframe tbody tr th:only-of-type {\n",
       "        vertical-align: middle;\n",
       "    }\n",
       "\n",
       "    .dataframe tbody tr th {\n",
       "        vertical-align: top;\n",
       "    }\n",
       "\n",
       "    .dataframe thead th {\n",
       "        text-align: right;\n",
       "    }\n",
       "</style>\n",
       "<table border=\"1\" class=\"dataframe\">\n",
       "  <thead>\n",
       "    <tr style=\"text-align: right;\">\n",
       "      <th></th>\n",
       "      <th>Purchase</th>\n",
       "    </tr>\n",
       "    <tr>\n",
       "      <th>group</th>\n",
       "      <th></th>\n",
       "    </tr>\n",
       "  </thead>\n",
       "  <tbody>\n",
       "    <tr>\n",
       "      <th>control</th>\n",
       "      <td>550.89406</td>\n",
       "    </tr>\n",
       "    <tr>\n",
       "      <th>test</th>\n",
       "      <td>582.10610</td>\n",
       "    </tr>\n",
       "  </tbody>\n",
       "</table>\n",
       "</div>"
      ],
      "text/plain": [
       "         Purchase\n",
       "group            \n",
       "control 550.89406\n",
       "test    582.10610"
      ]
     },
     "execution_count": 9,
     "metadata": {},
     "output_type": "execute_result"
    }
   ],
   "source": [
    "df.groupby(\"group\").agg({\"Purchase\": \"mean\"})"
   ]
  },
  {
   "cell_type": "markdown",
   "id": "a96fe730",
   "metadata": {},
   "source": [
    "Herhangi bir istatistiki metoda başvurmadan önce incelemelerde bulunduğumuzda, iki grup arasında bir farklılık vardır yorumunu yapabiliyorum. "
   ]
  },
  {
   "cell_type": "markdown",
   "id": "14739a19",
   "metadata": {},
   "source": [
    "#### Görev 3: Hipotez Testinin Gerçekleştirilmesi"
   ]
  },
  {
   "cell_type": "markdown",
   "id": "56252b12",
   "metadata": {},
   "source": [
    "**Adım 1:** Hipotez testi yapılmadan önce varsayım kontrollerini yapınız. Bunlar Normallik Varsayımı ve Varyans Homojenliğidir."
   ]
  },
  {
   "cell_type": "code",
   "execution_count": 10,
   "id": "197179b0",
   "metadata": {},
   "outputs": [],
   "source": [
    "# Kontrol ve test grubunun normallik varsayımına uyup uymadığını Purchase değişkeni üzerinden ayrı ayrı test ediniz.\n",
    "# Normallik Varsayımı :\n",
    "# H0: Normal dağılım varsayımı sağlanmaktadır.\n",
    "# H1: Normal dağılım varsayımı sağlanmamaktadır.\n",
    "# p < 0.05 H0 RED\n",
    "# p > 0.05 H0 REDDEDİLEMEZ\n",
    "# Test sonucuna göre normallik varsayımı kontrol ve test grupları için sağlanıyor mu ?\n",
    "# Elde edilen p-value değerlerini yorumlayınız."
   ]
  },
  {
   "cell_type": "code",
   "execution_count": 11,
   "id": "2190c5a3",
   "metadata": {},
   "outputs": [
    {
     "name": "stdout",
     "output_type": "stream",
     "text": [
      "Test Stat = 0.9773, p-value = 0.5891\n"
     ]
    }
   ],
   "source": [
    "test_stat, pvalue = shapiro(df.loc[df[\"group\"] == \"control\", \"Purchase\"])\n",
    "\n",
    "print('Test Stat = %.4f, p-value = %.4f' % (test_stat, pvalue))"
   ]
  },
  {
   "cell_type": "code",
   "execution_count": 12,
   "id": "77ab1301",
   "metadata": {},
   "outputs": [],
   "source": [
    "# p-value = 0.5891\n",
    "# HO reddedilemez. Control grubunun değerleri normal dağılım varsayımını sağlamaktadır."
   ]
  },
  {
   "cell_type": "code",
   "execution_count": 13,
   "id": "74dfe6fd",
   "metadata": {},
   "outputs": [
    {
     "name": "stdout",
     "output_type": "stream",
     "text": [
      "Test Stat = 0.9589, p-value = 0.1541\n"
     ]
    }
   ],
   "source": [
    "test_stat, pvalue = shapiro(df.loc[df[\"group\"] == \"test\", \"Purchase\"])\n",
    "\n",
    "print('Test Stat = %.4f, p-value = %.4f' % (test_stat, pvalue))"
   ]
  },
  {
   "cell_type": "code",
   "execution_count": 14,
   "id": "a4ee4063",
   "metadata": {},
   "outputs": [],
   "source": [
    "# p-value = 0.1541"
   ]
  },
  {
   "cell_type": "code",
   "execution_count": 15,
   "id": "ea9951ff",
   "metadata": {},
   "outputs": [],
   "source": [
    "# Varyans Homojenliği:\n",
    "# Varyans, verilerin aritmetik ortalamadan olan sapmalarının karelerinin toplamıdır. Yani Standart sapmanın karekök alınmış halidir.\n",
    "# H0: Varyanslar homojendir.\n",
    "# H1: Varyanslar homojen Değildir.\n",
    "# p < 0.05 H0 RED\n",
    "# p > 0.05 H0 REDDEDİLEMEZ\n",
    "# Kontrol ve test grubu için varyans homojenliğinin sağlanıp sağlanmadığını Purchase değişkeni üzerinden test ediniz.\n",
    "# Test sonucuna göre normallik varsayımı sağlanıyor mu? Elde edilen p-value değerlerini yorumlayınız."
   ]
  },
  {
   "cell_type": "code",
   "execution_count": 16,
   "id": "2e67f93e",
   "metadata": {},
   "outputs": [
    {
     "name": "stdout",
     "output_type": "stream",
     "text": [
      "Test Stat = 2.6393, p-value = 0.1083\n"
     ]
    }
   ],
   "source": [
    "test_stat, pvalue = levene(df.loc[df[\"group\"] == \"control\", \"Purchase\"],\n",
    "                           df.loc[df[\"group\"] == \"test\", \"Purchase\"])\n",
    "print('Test Stat = %.4f, p-value = %.4f' % (test_stat, pvalue))"
   ]
  },
  {
   "cell_type": "code",
   "execution_count": 17,
   "id": "e7e2572a",
   "metadata": {},
   "outputs": [],
   "source": [
    "# p-value = 0.1083\n",
    "# HO reddedilemez. Control ve Test grubunun değerleri varyans homejenliği varsayımını sağlamaktadır.\n",
    "# Varyanslar Homojendir."
   ]
  },
  {
   "cell_type": "markdown",
   "id": "9e648960",
   "metadata": {},
   "source": [
    "**Adım 2:** Normallik Varsayımı ve Varyans Homojenliği sonuçlarına göre uygun testi seçiniz."
   ]
  },
  {
   "cell_type": "code",
   "execution_count": 18,
   "id": "0f53db02",
   "metadata": {},
   "outputs": [],
   "source": [
    "# Varsayımlar sağlandığı için bağımsız iki örneklem t testi (parametrik test) yapılmaktadır.\n",
    "# H0: M1 = M2 (Kontrol grubu ve test grubu satın alma ortalamaları arasında ist. ol.anl.fark yoktur).\n",
    "# H1: M1 != M2 (Kontrol grubu ve test grubu satın alma ortalamaları arasında ist. ol.anl.fark vardır).\n",
    "# p < 0.05 HO RED , \n",
    "# p > 0.05 HO REDDEDİLEMEZ"
   ]
  },
  {
   "cell_type": "code",
   "execution_count": 19,
   "id": "9d68bacf",
   "metadata": {},
   "outputs": [
    {
     "name": "stdout",
     "output_type": "stream",
     "text": [
      "Test Stat = -0.9416, p-value = 0.3493\n"
     ]
    }
   ],
   "source": [
    "test_stat, pvalue = ttest_ind(df.loc[df[\"group\"] == \"control\", \"Purchase\"],\n",
    "                              df.loc[df[\"group\"] == \"test\", \"Purchase\"],\n",
    "                              equal_var = True)\n",
    "\n",
    "print('Test Stat = %.4f, p-value = %.4f' % (test_stat, pvalue))"
   ]
  },
  {
   "cell_type": "markdown",
   "id": "4c0a5afa",
   "metadata": {},
   "source": [
    "**Adım 3:** Test sonucunda elde edilen p_value değerini göz önünde bulundurarak kontrol ve test grubu satın alma\n",
    "ortalamaları arasında istatistiki olarak anlamlı bir fark olup olmadığını yorumlayınız."
   ]
  },
  {
   "cell_type": "code",
   "execution_count": 20,
   "id": "0ffd34a7",
   "metadata": {},
   "outputs": [],
   "source": [
    "# p-value = 0.3493\n",
    "# HO reddedilemez. Kontrol ve test grubu satın alma ortalamaları arasında istatistiksel olarak anlamlı bir farklılık yoktur."
   ]
  },
  {
   "cell_type": "markdown",
   "id": "3b7f7140",
   "metadata": {},
   "source": [
    "####  Görev 4 : Sonuçların Analizi"
   ]
  },
  {
   "cell_type": "markdown",
   "id": "84baaed1",
   "metadata": {},
   "source": [
    "**Adım 1:** Hangi testi kullandınız, sebeplerini belirtiniz."
   ]
  },
  {
   "cell_type": "markdown",
   "id": "3e92c47a",
   "metadata": {},
   "source": [
    "İlk önce iki grubada normallik testi uygulanmıştır. İki grubunda normal dağılıma uyduğu görüldüğünden ikinci varsayıma geçilerek varyansın homejenliği incelenmiştir. Varyanslar homejen çıktığından \"Bağımsız İki Örneklem T Testi\" uygulanmıştır. Uygulama sonucunda p-değerinin 0.05'ten büyük olduğu gözlemlenmiş ve H0 Hipotezi reddedilememiştir. "
   ]
  },
  {
   "cell_type": "markdown",
   "id": "43057b7d",
   "metadata": {},
   "source": [
    "**Adım 2:** Elde ettiğiniz test sonuçlarına göre müşteriye tavsiyede bulununuz."
   ]
  },
  {
   "cell_type": "markdown",
   "id": "f18d0054",
   "metadata": {},
   "source": [
    "Satın alma anlamında anlamlı bir fark bulunmadığından müşteri iki yöntemden birini seçebilir fakat burada diğer istatistiki farklılıklarda önem arz edecektir. Tıklanma, Etkileşim ve Dönüşüm Oranlarındaki farklılıklar değerlendirilip hangi yöntemin daha kazançlı olduğu tespit edilebilir. Özellikle Facebook'a tıklanma başına para ödendiği için hangi yöntemde tıklanma oranının daha düşük olduğu tespit edilip ve CTR (Click Through Rate - Tıklanma Oranı) oranına bakılabilir. Bu iki grup gözlenmeye devam edilir."
   ]
  },
  {
   "cell_type": "code",
   "execution_count": null,
   "id": "c1adb763",
   "metadata": {},
   "outputs": [],
   "source": []
  }
 ],
 "metadata": {
  "kernelspec": {
   "display_name": "Python 3 (ipykernel)",
   "language": "python",
   "name": "python3"
  },
  "language_info": {
   "codemirror_mode": {
    "name": "ipython",
    "version": 3
   },
   "file_extension": ".py",
   "mimetype": "text/x-python",
   "name": "python",
   "nbconvert_exporter": "python",
   "pygments_lexer": "ipython3",
   "version": "3.9.13"
  }
 },
 "nbformat": 4,
 "nbformat_minor": 5
}
